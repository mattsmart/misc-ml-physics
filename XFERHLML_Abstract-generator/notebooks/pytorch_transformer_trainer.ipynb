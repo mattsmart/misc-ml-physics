{
 "cells": [
  {
   "cell_type": "code",
   "execution_count": 1,
   "metadata": {
    "id": "rTk268Ljh0sv"
   },
   "outputs": [],
   "source": [
    "%matplotlib inline"
   ]
  },
  {
   "cell_type": "markdown",
   "metadata": {
    "id": "X_OsFOADh0sx"
   },
   "source": [
    "[link text](https://)\n",
    "Sequence-to-Sequence Modeling with nn.Transformer and TorchText\n",
    "===============================================================\n",
    "\n",
    "This is a tutorial on how to train a sequence-to-sequence model\n",
    "that uses the\n",
    "`nn.Transformer <https://pytorch.org/docs/master/nn.html?highlight=nn%20transformer#torch.nn.Transformer>`__ module.\n",
    "\n",
    "PyTorch 1.2 release includes a standard transformer module based on the\n",
    "paper `Attention is All You\n",
    "Need <https://arxiv.org/pdf/1706.03762.pdf>`__. The transformer model\n",
    "has been proved to be superior in quality for many sequence-to-sequence\n",
    "problems while being more parallelizable. The ``nn.Transformer`` module\n",
    "relies entirely on an attention mechanism (another module recently\n",
    "implemented as `nn.MultiheadAttention <https://pytorch.org/docs/master/nn.html?highlight=multiheadattention#torch.nn.MultiheadAttention>`__) to draw global dependencies\n",
    "between input and output. The ``nn.Transformer`` module is now highly\n",
    "modularized such that a single component (like `nn.TransformerEncoder <https://pytorch.org/docs/master/nn.html?highlight=nn%20transformerencoder#torch.nn.TransformerEncoder>`__\n",
    "in this tutorial) can be easily adapted/composed.\n",
    "\n",
    "![](https://github.com/pytorch/tutorials/blob/gh-pages/_downloads/_static/img/transformer_architecture.jpg?raw=1)\n",
    "\n",
    "\n",
    "\n"
   ]
  },
  {
   "cell_type": "code",
   "execution_count": 2,
   "metadata": {
    "id": "DTaNWBsOoPP6"
   },
   "outputs": [],
   "source": [
    "import math\n",
    "import numpy as np\n",
    "import os\n",
    "import sys\n",
    "import time\n",
    "\n",
    "import torch\n",
    "import torch.nn as nn\n",
    "from torchtext.datasets import WikiText2"
   ]
  },
  {
   "cell_type": "code",
   "execution_count": 3,
   "metadata": {},
   "outputs": [
    {
     "name": "stdout",
     "output_type": "stream",
     "text": [
      "3.8.7 (tags/v3.8.7:6503f05, Dec 21 2020, 17:59:51) [MSC v.1928 64 bit (AMD64)]\n",
      "c:\\users\\matts\\appdata\\local\\programs\\python\\python38\n"
     ]
    }
   ],
   "source": [
    "print(sys.version)\n",
    "print(sys.prefix)"
   ]
  },
  {
   "cell_type": "code",
   "execution_count": 4,
   "metadata": {},
   "outputs": [
    {
     "name": "stdout",
     "output_type": "stream",
     "text": [
      "I:\\Development\\Repositories\\Abstract-generator\\local_ms\n"
     ]
    }
   ],
   "source": [
    "PACKAGE_ROOT = os.path.dirname(os.path.abspath(''))\n",
    "print(PACKAGE_ROOT)\n",
    "sys.path.append(PACKAGE_ROOT)\n",
    "\n",
    "from src.model.model import TransformerModel, load_model\n",
    "from src.model.model_usage import gen_some_text\n",
    "from src.model.model_utils import gen_tokenizer_and_vocab, data_process, batchify, get_batch\n",
    "from src.model.train_evaluate import train, evaluate\n",
    "from src.settings import BPTT\n",
    "\n",
    "from src.data.data_tokenizer import default_tpath\n",
    "from src.data.data_sanitize import read_arxiv_data_raw"
   ]
  },
  {
   "cell_type": "markdown",
   "metadata": {},
   "source": [
    "**Handler: Set Device (CUDA)**"
   ]
  },
  {
   "cell_type": "code",
   "execution_count": null,
   "metadata": {},
   "outputs": [],
   "source": [
    "device = torch.device(\"cuda\" if torch.cuda.is_available() else \"cpu\")\n",
    "print('torch.cuda.is_available():', torch.cuda.is_available())\n",
    "print('Device:', device)"
   ]
  },
  {
   "cell_type": "markdown",
   "metadata": {
    "id": "CuLGmhAWoPP6"
   },
   "source": [
    "**Handler: Colab vs. Local Jupyter**"
   ]
  },
  {
   "cell_type": "code",
   "execution_count": null,
   "metadata": {
    "id": "o-wGlSADoPP7",
    "outputId": "0119af7b-8211-4110-f90c-2d47c5487552"
   },
   "outputs": [],
   "source": [
    "IN_COLAB = 'google.colab' in str(get_ipython())\n",
    "\n",
    "if IN_COLAB:\n",
    "    from google.colab import drive\n",
    "    drive.mount('/content/drive')\n",
    "    NOTEBOOK_OUTDIR = 'MyDrive' + os.sep + 'output'\n",
    "    %cd '/content/drive'\n",
    "    TESTMODE = False\n",
    "    batch_size = 64 #32\n",
    "    eval_batch_size = 64 #32\n",
    "    epochs = 50  # The number of epochs\n",
    "else:\n",
    "    NOTEBOOK_OUTDIR = 'output'\n",
    "    TESTMODE = False       # True\n",
    "    if torch.cuda.is_available():\n",
    "        batch_size = 64       # 3, or 64/128 on server gpu\n",
    "        eval_batch_size = 64  # 3, or 64/128 on server gpu\n",
    "    else:\n",
    "        batch_size = 3        # 3 on cpu\n",
    "        eval_batch_size = 3   # 3 on cpu\n",
    "    epochs = 50  # The number of epochs\n",
    "\n",
    "os.makedirs(NOTEBOOK_OUTDIR, exist_ok=True)\n",
    "DATADIR = NOTEBOOK_OUTDIR + os.sep + '.data'\n",
    "\n",
    "print('Running in colab:', IN_COLAB)\n",
    "print('Notebook output dir:', NOTEBOOK_OUTDIR)"
   ]
  },
  {
   "cell_type": "markdown",
   "metadata": {
    "id": "pDoippnch0sy"
   },
   "source": [
    "Define the model\n",
    "----------------\n",
    "\n",
    "\n"
   ]
  },
  {
   "cell_type": "markdown",
   "metadata": {
    "id": "rRsSsFnPh0sz"
   },
   "source": [
    "In this tutorial, we train ``nn.TransformerEncoder`` model on a\n",
    "language modeling task. The language modeling task is to assign a\n",
    "probability for the likelihood of a given word (or a sequence of words)\n",
    "to follow a sequence of words. A sequence of tokens are passed to the embedding\n",
    "layer first, followed by a positional encoding layer to account for the order\n",
    "of the word (see the next paragraph for more details). The\n",
    "``nn.TransformerEncoder`` consists of multiple layers of\n",
    "`nn.TransformerEncoderLayer <https://pytorch.org/docs/master/nn.html?highlight=transformerencoderlayer#torch.nn.TransformerEncoderLayer>`__. Along with the input sequence, a square\n",
    "attention mask is required because the self-attention layers in\n",
    "``nn.TransformerEncoder`` are only allowed to attend the earlier positions in\n",
    "the sequence. For the language modeling task, any tokens on the future\n",
    "positions should be masked. To have the actual words, the output\n",
    "of ``nn.TransformerEncoder`` model is sent to the final Linear\n",
    "layer, which is followed by a log-Softmax function.\n",
    "\n",
    "\n"
   ]
  },
  {
   "cell_type": "markdown",
   "metadata": {
    "id": "p733KjQoh0s0"
   },
   "source": [
    "``PositionalEncoding`` module injects some information about the\n",
    "relative or absolute position of the tokens in the sequence. The\n",
    "positional encodings have the same dimension as the embeddings so that\n",
    "the two can be summed. Here, we use ``sine`` and ``cosine`` functions of\n",
    "different frequencies.\n",
    "\n",
    "\n"
   ]
  },
  {
   "cell_type": "markdown",
   "metadata": {
    "id": "ZO1xVjDAh0s1"
   },
   "source": [
    "Load and batch data\n",
    "-------------------\n",
    "\n",
    "\n"
   ]
  },
  {
   "cell_type": "markdown",
   "metadata": {
    "id": "SFOwEqVNh0s2"
   },
   "source": [
    "This tutorial uses ``torchtext`` to generate Wikitext-2 dataset. The\n",
    "vocab object is built based on the train dataset and is used to numericalize\n",
    "tokens into tensors. Starting from sequential data, the ``batchify()``\n",
    "function arranges the dataset into columns, trimming off any tokens remaining\n",
    "after the data has been divided into batches of size ``batch_size``.\n",
    "For instance, with the alphabet as the sequence (total length of 26)\n",
    "and a batch size of 4, we would divide the alphabet into 4 sequences of\n",
    "length 6:\n",
    "\n",
    "\\begin{align}\\begin{bmatrix}\n",
    "  \\text{A} & \\text{B} & \\text{C} & \\ldots & \\text{X} & \\text{Y} & \\text{Z}\n",
    "  \\end{bmatrix}\n",
    "  \\Rightarrow\n",
    "  \\begin{bmatrix}\n",
    "  \\begin{bmatrix}\\text{A} \\\\ \\text{B} \\\\ \\text{C} \\\\ \\text{D} \\\\ \\text{E} \\\\ \\text{F}\\end{bmatrix} &\n",
    "  \\begin{bmatrix}\\text{G} \\\\ \\text{H} \\\\ \\text{I} \\\\ \\text{J} \\\\ \\text{K} \\\\ \\text{L}\\end{bmatrix} &\n",
    "  \\begin{bmatrix}\\text{M} \\\\ \\text{N} \\\\ \\text{O} \\\\ \\text{P} \\\\ \\text{Q} \\\\ \\text{R}\\end{bmatrix} &\n",
    "  \\begin{bmatrix}\\text{S} \\\\ \\text{T} \\\\ \\text{U} \\\\ \\text{V} \\\\ \\text{W} \\\\ \\text{X}\\end{bmatrix}\n",
    "  \\end{bmatrix}\\end{align}\n",
    "\n",
    "These columns are treated as independent by the model, which means that\n",
    "the dependence of ``G`` and ``F`` can not be learned, but allows more\n",
    "efficient batch processing.\n",
    "\n",
    "\n"
   ]
  },
  {
   "cell_type": "code",
   "execution_count": null,
   "metadata": {
    "id": "ECcX7oEjh0s2"
   },
   "outputs": [],
   "source": [
    "tokenizer, vocab = gen_tokenizer_and_vocab()\n",
    "\n",
    "train_iter, val_iter, test_iter = WikiText2(root=DATADIR)\n",
    "train_data = data_process(train_iter, vocab, tokenizer)\n",
    "val_data = data_process(val_iter, vocab, tokenizer)\n",
    "test_data = data_process(test_iter, vocab, tokenizer)\n",
    "\n",
    "train_data = batchify(train_data, batch_size, device)\n",
    "val_data = batchify(val_data, eval_batch_size, device)\n",
    "test_data = batchify(test_data, eval_batch_size, device)"
   ]
  },
  {
   "cell_type": "markdown",
   "metadata": {
    "id": "BvxDKBUdoPQD"
   },
   "source": [
    "**Code Testing block: shorten the size of the training data to make training loop quicker**"
   ]
  },
  {
   "cell_type": "code",
   "execution_count": null,
   "metadata": {
    "id": "v9o2kHSToPQD",
    "outputId": "af1c7833-04e4-42c1-8a1f-d1768ef926b8"
   },
   "outputs": [],
   "source": [
    "data_reduce = 0.05\n",
    "\n",
    "if TESTMODE:\n",
    "    print('TRUNCATING DATA (testmode_ipynb=True)\\nShapes before:')\n",
    "    print(train_data.shape)\n",
    "    print(test_data.shape)\n",
    "    print(val_data.shape)\n",
    "    train_data = train_data[0:int(data_reduce * train_data.shape[0]), :]\n",
    "    test_data = test_data[0:int(data_reduce * test_data.shape[0]), :]\n",
    "    val_data = val_data[0:int(data_reduce * val_data.shape[0]), :]\n",
    "    print('Shapes after:')\n",
    "    print(train_data.shape)\n",
    "    print(test_data.shape)\n",
    "    print(val_data.shape)"
   ]
  },
  {
   "cell_type": "markdown",
   "metadata": {
    "id": "GXmvfbAfh0s3"
   },
   "source": [
    "``get_batch()`` function generates the input and target sequence for\n",
    "the transformer model. It subdivides the source data into chunks of\n",
    "length ``bptt``. For the language modeling task, the model needs the\n",
    "following words as ``Target``. For example, with a ``bptt`` value of 2,\n",
    "we’d get the following two Variables for ``i`` = 0:\n",
    "\n",
    "![](https://github.com/pytorch/tutorials/blob/gh-pages/_downloads/_static/img/transformer_input_target.png?raw=1)\n",
    "\n",
    "\n",
    "It should be noted that the chunks are along dimension 0, consistent\n",
    "with the ``S`` dimension in the Transformer model. The batch dimension\n",
    "``N`` is along dimension 1.\n",
    "\n",
    "\n"
   ]
  },
  {
   "cell_type": "code",
   "execution_count": null,
   "metadata": {
    "id": "br5Wu4yPh0s4"
   },
   "outputs": [],
   "source": [
    "assert BPTT == 35  # TODO override/add flexibility later"
   ]
  },
  {
   "cell_type": "markdown",
   "metadata": {
    "id": "kKYt_D4wh0s4"
   },
   "source": [
    "Initiate an instance\n",
    "--------------------\n",
    "\n",
    "\n"
   ]
  },
  {
   "cell_type": "markdown",
   "metadata": {
    "id": "u_ejvBQ4h0s4"
   },
   "source": [
    "The model is set up with the hyperparameter below. The vocab size is\n",
    "equal to the length of the vocab object.\n",
    "\n",
    "\n"
   ]
  },
  {
   "cell_type": "code",
   "execution_count": null,
   "metadata": {
    "id": "ElCNW7sWh0s4"
   },
   "outputs": [],
   "source": [
    "ntokens = len(vocab.stoi) # the size of vocabulary\n",
    "\n",
    "# Model 'A'\n",
    "\"\"\"emsize = 200           # embedding dimension\n",
    "nhid = 200                # the dimension of the feedforward network model in nn.TransformerEncoder\n",
    "nlayers = 2               # the number of nn.TransformerEncoderLayer in nn.TransformerEncoder\n",
    "nhead = 2                 # the number of heads in the multiheadattention models\n",
    "dropout = 0.05            # the dropout value\"\"\"\n",
    "\n",
    "# Model 'B'\n",
    "emsize = 512              # embedding dimension\n",
    "nhid = 2048               # the dimension of the feedforward network model in nn.TransformerEncoder\n",
    "nlayers = 12              # the number of nn.TransformerEncoderLayer in nn.TransformerEncoder\n",
    "nhead = 8                 # the number of heads in the multiheadattention models\n",
    "dropout = 0.3             # the dropout value\n",
    "\n",
    "# Model 'C'\n",
    "\"\"\"\n",
    "emsize = 1024             # embedding dimension\n",
    "nhid = 2048               # the dimension of the feedforward network model in nn.TransformerEncoder\n",
    "nlayers = 12              # the number of nn.TransformerEncoderLayer in nn.TransformerEncoder\n",
    "nhead = 16                # the number of heads in the multiheadattention models\n",
    "dropout = 0.3             # the dropout value\"\"\"\n",
    "\n",
    "# Model 'D' - like GPT-1 - it doesn't fit\n",
    "# - \"BPE with 40,000 merged [53]\" using spaCy tokenizer\n",
    "# - 512 token samples (their BPTT)\n",
    "# - 100 epochs on minibatches of 64 continuous text streams (each of length BPTT)\n",
    "# - adam 2.5e-4 with specific LR schedule\n",
    "# - weight init of N(0, 0.02)\n",
    "\"\"\"\n",
    "emsize = 768              # embedding dimension\n",
    "nhid = 3072               # the dimension of the feedforward network model in nn.TransformerEncoder\n",
    "nlayers = 12              # the number of nn.TransformerEncoderLayer in nn.TransformerEncoder\n",
    "nhead = 12                # the number of heads in the multiheadattention models\n",
    "dropout = 0.1             # the dropout value\"\"\"\n",
    "\n",
    "model = TransformerModel(ntokens, emsize, nhead, nhid, nlayers, dropout).to(device)"
   ]
  },
  {
   "cell_type": "markdown",
   "metadata": {
    "id": "tmkcIDCvh0s5"
   },
   "source": [
    "Run the model\n",
    "-------------\n",
    "\n",
    "\n"
   ]
  },
  {
   "cell_type": "markdown",
   "metadata": {
    "id": "6N9258vph0s5"
   },
   "source": [
    "`CrossEntropyLoss <https://pytorch.org/docs/master/nn.html?highlight=crossentropyloss#torch.nn.CrossEntropyLoss>`__\n",
    "is applied to track the loss and\n",
    "`SGD <https://pytorch.org/docs/master/optim.html?highlight=sgd#torch.optim.SGD>`__\n",
    "implements stochastic gradient descent method as the optimizer. The initial\n",
    "learning rate is set to 5.0. `StepLR <https://pytorch.org/docs/master/optim.html?highlight=steplr#torch.optim.lr_scheduler.StepLR>`__ is\n",
    "applied to adjust the learn rate through epochs. During the\n",
    "training, we use\n",
    "`nn.utils.clip_grad_norm\\_ <https://pytorch.org/docs/master/nn.html?highlight=nn%20utils%20clip_grad_norm#torch.nn.utils.clip_grad_norm_>`__\n",
    "function to scale all the gradient together to prevent exploding.\n",
    "\n",
    "\n"
   ]
  },
  {
   "cell_type": "code",
   "execution_count": null,
   "metadata": {
    "id": "hSWQPh_Kh0s5"
   },
   "outputs": [],
   "source": [
    "criterion = nn.CrossEntropyLoss()\n",
    "\n",
    "optimizer_str = 'adam'\n",
    "schedule_str = 'scheduleA'\n",
    "\n",
    "valid_optimizer_str = ['SGD', 'adam', 'adamW']\n",
    "valid_schedule_str = ['constant', 'scheduleA']\n",
    "assert optimizer_str in valid_optimizer_str\n",
    "assert schedule_str in valid_schedule_str\n",
    "\n",
    "if optimizer_str == 'SGD':\n",
    "    lr = 0.5  # learning rate (originally: 5.0, 0.1, 0.5 (best))\n",
    "    optimizer = torch.optim.SGD(model.parameters(), lr=lr)\n",
    "    gamma = 0.95\n",
    "elif optimizer_str == 'adam':\n",
    "    lr = 1e-4  # default 1e-3, best 1e-4, try also 2.5e-4\n",
    "    optimizer = torch.optim.Adam(model.parameters(), lr=lr)\n",
    "    gamma = 0.9\n",
    "else:\n",
    "    assert optimizer_str == 'adamW'\n",
    "    lr = 2.5e-4  # default 1e-3, best 1e-4\n",
    "    optimizer = torch.optim.AdamW(model.parameters(), lr=lr)\n",
    "    gamma = 0.9\n",
    "\n",
    "if schedule_str == 'constant':\n",
    "    scheduler = lr\n",
    "else:\n",
    "    assert schedule_str == 'scheduleA'\n",
    "    scheduler = torch.optim.lr_scheduler.StepLR(optimizer, 1.0, gamma=gamma)\n",
    "    \n",
    "# TODO try two-stage LR like in GPT-1 -- increase 0 to eta_0 over k steps then cosine schedule after"
   ]
  },
  {
   "cell_type": "markdown",
   "metadata": {},
   "source": [
    "Optionally generate text each epoch to illustrate model state during training"
   ]
  },
  {
   "cell_type": "code",
   "execution_count": null,
   "metadata": {},
   "outputs": [],
   "source": [
    "gen_text_each_epoch = True\n",
    "# default behaviour generate sentence 1 greedily, then nseed sentences with beta=1\n",
    "if gen_text_each_epoch:\n",
    "    text_prompt = 'The dog ran'\n",
    "    decode_seeds = [0, 1, 2]\n",
    "    decode_betas = [1.0, 1.0, 1.0]\n",
    "    nongreedy_style = 'sample_full'\n",
    "    \n",
    "def gen_some_text_wrapper(generator_model, decode_style, decode_seed=0, decode_beta=1.0):\n",
    "    generated_text = gen_some_text(\n",
    "        generator_model, tokenizer, vocab, device,\n",
    "        text_prompt=text_prompt,\n",
    "        tokens_to_gen=25,\n",
    "        decode_style=decode_style,\n",
    "        decode_seed=decode_seed,\n",
    "        decode_beta=decode_beta,\n",
    "        sidestep_unk=False,\n",
    "        vis=False,\n",
    "        verbose=False)\n",
    "    return generated_text\n",
    "\n",
    "def decode_during_training(generator_model, epoch):\n",
    "    \n",
    "    decode_start_time = time.time()\n",
    "    \n",
    "    print('Generated text at epoch %d: %s ...' % (epoch, text_prompt))\n",
    "    # First get greedy decoding\n",
    "    greedy_text = gen_some_text_wrapper(generator_model, 'greedy')\n",
    "    print(\"Greedy decoding:\\n\\t%s\" % (greedy_text))\n",
    "    # Now get several sampler decodings\n",
    "    for idx in range(len(decode_seeds)):\n",
    "        generated_text = gen_some_text_wrapper(generator_model, nongreedy_style, decode_seeds[idx], decode_betas[idx])\n",
    "        print(\"(%s, seed=%d, beta=%.2f):\\n\\t%s\" % (nongreedy_style, decode_seeds[idx], decode_betas[idx], generated_text))\n",
    "    print('-' * 89)\n",
    "    print('Epoch {:3d} | example generation time: {:5.2f}s'.format(epoch, (time.time() - decode_start_time)))\n",
    "    print('-' * 89)"
   ]
  },
  {
   "cell_type": "markdown",
   "metadata": {
    "id": "rrLNZrMIh0s6"
   },
   "source": [
    "Loop over epochs. Save the model if the validation loss is the best\n",
    "we've seen so far. Adjust the learning rate after each epoch.\n",
    "\n"
   ]
  },
  {
   "cell_type": "code",
   "execution_count": null,
   "metadata": {
    "id": "QiehSV-toPQG",
    "outputId": "854cb597-ea80-45ef-f809-17b9e9a64e3e",
    "scrolled": true
   },
   "outputs": [],
   "source": [
    "batch_per_epoch = len(train_data) // BPTT\n",
    "if (len(train_data) - 1) % BPTT != 0:\n",
    "    batch_per_epoch += 1\n",
    "\n",
    "training_ppl_train_fine = np.zeros(epochs * batch_per_epoch)\n",
    "training_ppl_val_coarse = np.zeros(epochs)\n",
    "\n",
    "best_val_loss = float(\"inf\")\n",
    "best_model = None\n",
    "\n",
    "if gen_text_each_epoch:\n",
    "    decode_during_training(model, 0)\n",
    "\n",
    "for epoch in range(1, epochs + 1):\n",
    "        \n",
    "    epoch_start_time = time.time()\n",
    "    loss_per_batch = train(model, device, train_data, ntokens, optimizer, scheduler, criterion, epoch)\n",
    "    \n",
    "    # print validation loss info each epoch\n",
    "    validation_loss = evaluate(model, val_data, device, ntokens, criterion)\n",
    "    validation_ppl = math.exp(validation_loss)\n",
    "    print('-' * 89)\n",
    "    print('| end of epoch {:3d} | time: {:5.2f}s | valid loss {:5.2f} | '\n",
    "          'valid ppl {:8.2f}'.format(epoch, (time.time() - epoch_start_time),\n",
    "                                     validation_loss, validation_ppl))\n",
    "    print('-' * 89)\n",
    "    \n",
    "    # store loss info\n",
    "    training_ppl_val_coarse[epoch-1] = validation_ppl\n",
    "    training_ppl_train_fine[(epoch-1) * batch_per_epoch: (epoch)*batch_per_epoch] = np.exp(loss_per_batch)\n",
    "    \n",
    "    # save best model so far\n",
    "    if validation_loss < best_val_loss:\n",
    "        best_val_loss = validation_loss\n",
    "        torch.save(model.state_dict(), NOTEBOOK_OUTDIR + os.sep + 'bestval_model_weights.pth')\n",
    "        torch.save(model, NOTEBOOK_OUTDIR + os.sep + 'bestval_model.pth')\n",
    "    if not(isinstance(scheduler, int) or isinstance(scheduler, float)):\n",
    "        scheduler.step()\n",
    "            \n",
    "    # optionally generate text based on fixed text-prompt\n",
    "    if gen_text_each_epoch:\n",
    "        decode_during_training(model, epoch)"
   ]
  },
  {
   "cell_type": "markdown",
   "metadata": {},
   "source": [
    "**Save Model**\n",
    "\n",
    "Approach 1: save model weights,\n",
    "load as: \n",
    "\n",
    "  `model.load_state_dict(torch.load('model_weights.pth'))`    \n",
    "  `model.eval()`\n",
    "  \n",
    "Approach 2: save model class object entirely (uses pickle),\n",
    "load as: \n",
    "  `model = torch.load('model.pth')`"
   ]
  },
  {
   "cell_type": "code",
   "execution_count": null,
   "metadata": {},
   "outputs": [],
   "source": [
    "torch.save(model.state_dict(), NOTEBOOK_OUTDIR + os.sep + 'end_model_weights.pth')\n",
    "torch.save(model, NOTEBOOK_OUTDIR + os.sep + 'end_model.pth')"
   ]
  },
  {
   "cell_type": "markdown",
   "metadata": {
    "id": "zJhCBOg1h0s6"
   },
   "source": [
    "Evaluate the model with the test dataset\n",
    "-------------------------------------\n",
    "\n",
    "Assess the model from the end of training (last epoch) on test set."
   ]
  },
  {
   "cell_type": "code",
   "execution_count": null,
   "metadata": {
    "colab": {
     "base_uri": "https://localhost:8080/"
    },
    "executionInfo": {
     "elapsed": 3804,
     "status": "ok",
     "timestamp": 1622775216924,
     "user": {
      "displayName": "Matthew Smart",
      "photoUrl": "",
      "userId": "06726801805653264331"
     },
     "user_tz": 240
    },
    "id": "zL_3xrzEh0s6",
    "outputId": "7aa7d3a8-e176-47a8-ea5e-9620ea371c71"
   },
   "outputs": [],
   "source": [
    "datachoices = {'train': train_data, \n",
    "               'val': val_data,\n",
    "               'test': test_data}\n",
    "\n",
    "for datalabel in ['train', 'val', 'test']:\n",
    "    data_loss = evaluate(model, datachoices[datalabel], device, ntokens, criterion)\n",
    "    print('=' * 89)\n",
    "    print('| End of training | {} loss {:5.2f} | {} ppl {:8.2f}'.format(\n",
    "        datalabel, data_loss, datalabel, math.exp(data_loss)))\n",
    "    print('=' * 89)"
   ]
  },
  {
   "cell_type": "markdown",
   "metadata": {},
   "source": [
    "Load the best model (lowest validation loss) to check the result with the test dataset."
   ]
  },
  {
   "cell_type": "code",
   "execution_count": null,
   "metadata": {},
   "outputs": [],
   "source": [
    "best_model = load_model(NOTEBOOK_OUTDIR + os.sep + 'bestval_model.pth',\n",
    "                        device, \n",
    "                        as_pickle=True)\n",
    "\n",
    "datachoices = {'train': train_data, \n",
    "               'val': val_data,\n",
    "               'test': test_data}\n",
    "\n",
    "for datalabel in ['train', 'val', 'test']:\n",
    "    data_loss = evaluate(best_model, datachoices[datalabel], device, ntokens, criterion)\n",
    "    print('=' * 89)\n",
    "    print('| Best model | {} loss {:5.2f} | {} ppl {:8.2f}'.format(\n",
    "        datalabel, data_loss, datalabel, math.exp(data_loss)))\n",
    "    print('=' * 89)"
   ]
  },
  {
   "cell_type": "markdown",
   "metadata": {
    "id": "SQikQeFBoPQI"
   },
   "source": [
    "# Plot training timeseries"
   ]
  },
  {
   "cell_type": "code",
   "execution_count": null,
   "metadata": {
    "id": "TG5T326ioPQI",
    "outputId": "64954352-eb06-4150-ac4d-ee4d18661eea"
   },
   "outputs": [],
   "source": [
    "np.savetxt(NOTEBOOK_OUTDIR + os.sep + 'training_ppl_train_fine.txt', training_ppl_train_fine)\n",
    "np.savetxt(NOTEBOOK_OUTDIR + os.sep + 'training_ppl_val_coarse.txt', training_ppl_val_coarse)"
   ]
  },
  {
   "cell_type": "code",
   "execution_count": null,
   "metadata": {
    "id": "_qp7e1uToPQI",
    "scrolled": true
   },
   "outputs": [],
   "source": [
    "import matplotlib.pyplot as plt\n",
    "\n",
    "epochs_axis = np.arange(1, epochs + 1)\n",
    "epochs_axis_fine = np.linspace(0, epochs, epochs * batch_per_epoch + 1)[:-1]\n",
    "\n",
    "def plot_training_timeseries(fname='training_performance', ext='.jpg', logy=True, xlims=None, ylims=None):\n",
    "\n",
    "    plt.figure(figsize=(8,6))\n",
    "    plt.plot(epochs_axis, training_ppl_val_coarse, '--ok', label='val', zorder=2)\n",
    "    plt.plot(epochs_axis_fine, training_ppl_train_fine, 'b', label='train', zorder=1, alpha=0.5)\n",
    "    plt.xlabel('epoch')\n",
    "    plt.ylabel('ppl (validation set)')\n",
    "    plt.legend()\n",
    "    if logy:\n",
    "        plt.yscale('log')\n",
    "        fname += '_logy'\n",
    "    if xlims is not None:\n",
    "        plt.xlim(xlims[0], xlims[1])\n",
    "    if ylims is not None:\n",
    "        plt.ylim(ylims[0], ylims[1])\n",
    "    plt.savefig(NOTEBOOK_OUTDIR + os.sep + fname + ext)\n",
    "    plt.show()"
   ]
  },
  {
   "cell_type": "code",
   "execution_count": null,
   "metadata": {
    "id": "VkwIdFDUoPQI",
    "outputId": "bf37757d-5ad1-42b8-dee3-f21a53136c1f"
   },
   "outputs": [],
   "source": [
    "plot_training_timeseries(logy=True)\n",
    "plot_training_timeseries(logy=False, ylims=(0, np.max(training_ppl_val_coarse) * 1.2))"
   ]
  },
  {
   "cell_type": "code",
   "execution_count": null,
   "metadata": {
    "id": "lPE-PdGZoPQJ",
    "outputId": "b5176056-e800-47e3-800b-ef9ad64e289f"
   },
   "outputs": [],
   "source": [
    "print('Epoch after which validation loss is minimized (defines best_model):', np.argmin(training_ppl_val_coarse) + 1)"
   ]
  },
  {
   "cell_type": "code",
   "execution_count": null,
   "metadata": {
    "id": "b9bCsWNnoPQJ"
   },
   "outputs": [],
   "source": []
  }
 ],
 "metadata": {
  "accelerator": "GPU",
  "colab": {
   "collapsed_sections": [],
   "name": "pytorch_transformer_trainer.ipynb",
   "provenance": [
    {
     "file_id": "https://github.com/pytorch/tutorials/blob/gh-pages/_downloads/dca13261bbb4e9809d1a3aa521d22dd7/transformer_tutorial.ipynb",
     "timestamp": 1622001366637
    }
   ]
  },
  "kernelspec": {
   "display_name": "Python 3",
   "language": "python",
   "name": "python3"
  },
  "language_info": {
   "codemirror_mode": {
    "name": "ipython",
    "version": 3
   },
   "file_extension": ".py",
   "mimetype": "text/x-python",
   "name": "python",
   "nbconvert_exporter": "python",
   "pygments_lexer": "ipython3",
   "version": "3.6.9"
  }
 },
 "nbformat": 4,
 "nbformat_minor": 1
}
